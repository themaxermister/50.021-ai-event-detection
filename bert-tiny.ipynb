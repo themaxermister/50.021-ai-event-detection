{
 "cells": [
  {
   "cell_type": "code",
   "execution_count": 2,
   "metadata": {
    "colab": {
     "base_uri": "https://localhost:8080/"
    },
    "id": "FHgjhDAcGMYd",
    "outputId": "58957cdd-3e23-42fb-e044-15d08fca4c75"
   },
   "outputs": [
    {
     "name": "stdout",
     "output_type": "stream",
     "text": [
      "Requirement already satisfied: evaluate in /opt/conda/lib/python3.11/site-packages (0.4.1)\n",
      "Requirement already satisfied: datasets>=2.0.0 in /opt/conda/lib/python3.11/site-packages (from evaluate) (2.18.0)\n",
      "Requirement already satisfied: numpy>=1.17 in /opt/conda/lib/python3.11/site-packages (from evaluate) (1.26.0)\n",
      "Requirement already satisfied: dill in /opt/conda/lib/python3.11/site-packages (from evaluate) (0.3.8)\n",
      "Requirement already satisfied: pandas in /opt/conda/lib/python3.11/site-packages (from evaluate) (2.2.2)\n",
      "Requirement already satisfied: requests>=2.19.0 in /opt/conda/lib/python3.11/site-packages (from evaluate) (2.31.0)\n",
      "Requirement already satisfied: tqdm>=4.62.1 in /opt/conda/lib/python3.11/site-packages (from evaluate) (4.66.1)\n",
      "Requirement already satisfied: xxhash in /opt/conda/lib/python3.11/site-packages (from evaluate) (3.4.1)\n",
      "Requirement already satisfied: multiprocess in /opt/conda/lib/python3.11/site-packages (from evaluate) (0.70.16)\n",
      "Requirement already satisfied: fsspec>=2021.05.0 in /opt/conda/lib/python3.11/site-packages (from fsspec[http]>=2021.05.0->evaluate) (2024.2.0)\n",
      "Requirement already satisfied: huggingface-hub>=0.7.0 in /opt/conda/lib/python3.11/site-packages (from evaluate) (0.22.2)\n",
      "Requirement already satisfied: packaging in /opt/conda/lib/python3.11/site-packages (from evaluate) (23.2)\n",
      "Requirement already satisfied: responses<0.19 in /opt/conda/lib/python3.11/site-packages (from evaluate) (0.18.0)\n",
      "Requirement already satisfied: filelock in /opt/conda/lib/python3.11/site-packages (from datasets>=2.0.0->evaluate) (3.9.0)\n",
      "Requirement already satisfied: pyarrow>=12.0.0 in /opt/conda/lib/python3.11/site-packages (from datasets>=2.0.0->evaluate) (15.0.2)\n",
      "Requirement already satisfied: pyarrow-hotfix in /opt/conda/lib/python3.11/site-packages (from datasets>=2.0.0->evaluate) (0.6)\n",
      "Requirement already satisfied: aiohttp in /opt/conda/lib/python3.11/site-packages (from datasets>=2.0.0->evaluate) (3.8.6)\n",
      "Requirement already satisfied: pyyaml>=5.1 in /opt/conda/lib/python3.11/site-packages (from datasets>=2.0.0->evaluate) (6.0.1)\n",
      "Requirement already satisfied: typing-extensions>=3.7.4.3 in /opt/conda/lib/python3.11/site-packages (from huggingface-hub>=0.7.0->evaluate) (4.8.0)\n",
      "Requirement already satisfied: charset-normalizer<4,>=2 in /opt/conda/lib/python3.11/site-packages (from requests>=2.19.0->evaluate) (3.3.2)\n",
      "Requirement already satisfied: idna<4,>=2.5 in /opt/conda/lib/python3.11/site-packages (from requests>=2.19.0->evaluate) (3.4)\n",
      "Requirement already satisfied: urllib3<3,>=1.21.1 in /opt/conda/lib/python3.11/site-packages (from requests>=2.19.0->evaluate) (2.1.0)\n",
      "Requirement already satisfied: certifi>=2017.4.17 in /opt/conda/lib/python3.11/site-packages (from requests>=2.19.0->evaluate) (2023.7.22)\n",
      "Requirement already satisfied: python-dateutil>=2.8.2 in /opt/conda/lib/python3.11/site-packages (from pandas->evaluate) (2.8.2)\n",
      "Requirement already satisfied: pytz>=2020.1 in /opt/conda/lib/python3.11/site-packages (from pandas->evaluate) (2023.3.post1)\n",
      "Requirement already satisfied: tzdata>=2022.7 in /opt/conda/lib/python3.11/site-packages (from pandas->evaluate) (2024.1)\n",
      "Requirement already satisfied: attrs>=17.3.0 in /opt/conda/lib/python3.11/site-packages (from aiohttp->datasets>=2.0.0->evaluate) (23.1.0)\n",
      "Requirement already satisfied: multidict<7.0,>=4.5 in /opt/conda/lib/python3.11/site-packages (from aiohttp->datasets>=2.0.0->evaluate) (6.0.4)\n",
      "Requirement already satisfied: async-timeout<5.0,>=4.0.0a3 in /opt/conda/lib/python3.11/site-packages (from aiohttp->datasets>=2.0.0->evaluate) (4.0.3)\n",
      "Requirement already satisfied: yarl<2.0,>=1.0 in /opt/conda/lib/python3.11/site-packages (from aiohttp->datasets>=2.0.0->evaluate) (1.9.2)\n",
      "Requirement already satisfied: frozenlist>=1.1.1 in /opt/conda/lib/python3.11/site-packages (from aiohttp->datasets>=2.0.0->evaluate) (1.4.0)\n",
      "Requirement already satisfied: aiosignal>=1.1.2 in /opt/conda/lib/python3.11/site-packages (from aiohttp->datasets>=2.0.0->evaluate) (1.3.1)\n",
      "Requirement already satisfied: six>=1.5 in /opt/conda/lib/python3.11/site-packages (from python-dateutil>=2.8.2->pandas->evaluate) (1.16.0)\n",
      "Requirement already satisfied: datasets in /opt/conda/lib/python3.11/site-packages (2.18.0)\n",
      "Requirement already satisfied: filelock in /opt/conda/lib/python3.11/site-packages (from datasets) (3.9.0)\n",
      "Requirement already satisfied: numpy>=1.17 in /opt/conda/lib/python3.11/site-packages (from datasets) (1.26.0)\n",
      "Requirement already satisfied: pyarrow>=12.0.0 in /opt/conda/lib/python3.11/site-packages (from datasets) (15.0.2)\n",
      "Requirement already satisfied: pyarrow-hotfix in /opt/conda/lib/python3.11/site-packages (from datasets) (0.6)\n",
      "Requirement already satisfied: dill<0.3.9,>=0.3.0 in /opt/conda/lib/python3.11/site-packages (from datasets) (0.3.8)\n",
      "Requirement already satisfied: pandas in /opt/conda/lib/python3.11/site-packages (from datasets) (2.2.2)\n",
      "Requirement already satisfied: requests>=2.19.0 in /opt/conda/lib/python3.11/site-packages (from datasets) (2.31.0)\n",
      "Requirement already satisfied: tqdm>=4.62.1 in /opt/conda/lib/python3.11/site-packages (from datasets) (4.66.1)\n",
      "Requirement already satisfied: xxhash in /opt/conda/lib/python3.11/site-packages (from datasets) (3.4.1)\n",
      "Requirement already satisfied: multiprocess in /opt/conda/lib/python3.11/site-packages (from datasets) (0.70.16)\n",
      "Requirement already satisfied: fsspec<=2024.2.0,>=2023.1.0 in /opt/conda/lib/python3.11/site-packages (from fsspec[http]<=2024.2.0,>=2023.1.0->datasets) (2024.2.0)\n",
      "Requirement already satisfied: aiohttp in /opt/conda/lib/python3.11/site-packages (from datasets) (3.8.6)\n",
      "Requirement already satisfied: huggingface-hub>=0.19.4 in /opt/conda/lib/python3.11/site-packages (from datasets) (0.22.2)\n",
      "Requirement already satisfied: packaging in /opt/conda/lib/python3.11/site-packages (from datasets) (23.2)\n",
      "Requirement already satisfied: pyyaml>=5.1 in /opt/conda/lib/python3.11/site-packages (from datasets) (6.0.1)\n",
      "Requirement already satisfied: attrs>=17.3.0 in /opt/conda/lib/python3.11/site-packages (from aiohttp->datasets) (23.1.0)\n",
      "Requirement already satisfied: charset-normalizer<4.0,>=2.0 in /opt/conda/lib/python3.11/site-packages (from aiohttp->datasets) (3.3.2)\n",
      "Requirement already satisfied: multidict<7.0,>=4.5 in /opt/conda/lib/python3.11/site-packages (from aiohttp->datasets) (6.0.4)\n",
      "Requirement already satisfied: async-timeout<5.0,>=4.0.0a3 in /opt/conda/lib/python3.11/site-packages (from aiohttp->datasets) (4.0.3)\n",
      "Requirement already satisfied: yarl<2.0,>=1.0 in /opt/conda/lib/python3.11/site-packages (from aiohttp->datasets) (1.9.2)\n",
      "Requirement already satisfied: frozenlist>=1.1.1 in /opt/conda/lib/python3.11/site-packages (from aiohttp->datasets) (1.4.0)\n",
      "Requirement already satisfied: aiosignal>=1.1.2 in /opt/conda/lib/python3.11/site-packages (from aiohttp->datasets) (1.3.1)\n",
      "Requirement already satisfied: typing-extensions>=3.7.4.3 in /opt/conda/lib/python3.11/site-packages (from huggingface-hub>=0.19.4->datasets) (4.8.0)\n",
      "Requirement already satisfied: idna<4,>=2.5 in /opt/conda/lib/python3.11/site-packages (from requests>=2.19.0->datasets) (3.4)\n",
      "Requirement already satisfied: urllib3<3,>=1.21.1 in /opt/conda/lib/python3.11/site-packages (from requests>=2.19.0->datasets) (2.1.0)\n",
      "Requirement already satisfied: certifi>=2017.4.17 in /opt/conda/lib/python3.11/site-packages (from requests>=2.19.0->datasets) (2023.7.22)\n",
      "Requirement already satisfied: python-dateutil>=2.8.2 in /opt/conda/lib/python3.11/site-packages (from pandas->datasets) (2.8.2)\n",
      "Requirement already satisfied: pytz>=2020.1 in /opt/conda/lib/python3.11/site-packages (from pandas->datasets) (2023.3.post1)\n",
      "Requirement already satisfied: tzdata>=2022.7 in /opt/conda/lib/python3.11/site-packages (from pandas->datasets) (2024.1)\n",
      "Requirement already satisfied: six>=1.5 in /opt/conda/lib/python3.11/site-packages (from python-dateutil>=2.8.2->pandas->datasets) (1.16.0)\n",
      "Requirement already satisfied: accelerate in /opt/conda/lib/python3.11/site-packages (0.29.2)\n",
      "Requirement already satisfied: numpy>=1.17 in /opt/conda/lib/python3.11/site-packages (from accelerate) (1.26.0)\n",
      "Requirement already satisfied: packaging>=20.0 in /opt/conda/lib/python3.11/site-packages (from accelerate) (23.2)\n",
      "Requirement already satisfied: psutil in /opt/conda/lib/python3.11/site-packages (from accelerate) (5.9.5)\n",
      "Requirement already satisfied: pyyaml in /opt/conda/lib/python3.11/site-packages (from accelerate) (6.0.1)\n",
      "Requirement already satisfied: torch>=1.10.0 in /opt/conda/lib/python3.11/site-packages (from accelerate) (2.1.1+cu118)\n",
      "Requirement already satisfied: huggingface-hub in /opt/conda/lib/python3.11/site-packages (from accelerate) (0.22.2)\n",
      "Requirement already satisfied: safetensors>=0.3.1 in /opt/conda/lib/python3.11/site-packages (from accelerate) (0.4.2)\n",
      "Requirement already satisfied: filelock in /opt/conda/lib/python3.11/site-packages (from torch>=1.10.0->accelerate) (3.9.0)\n",
      "Requirement already satisfied: typing-extensions in /opt/conda/lib/python3.11/site-packages (from torch>=1.10.0->accelerate) (4.8.0)\n",
      "Requirement already satisfied: sympy in /opt/conda/lib/python3.11/site-packages (from torch>=1.10.0->accelerate) (1.12)\n",
      "Requirement already satisfied: networkx in /opt/conda/lib/python3.11/site-packages (from torch>=1.10.0->accelerate) (3.0)\n",
      "Requirement already satisfied: jinja2 in /opt/conda/lib/python3.11/site-packages (from torch>=1.10.0->accelerate) (3.1.2)\n",
      "Requirement already satisfied: fsspec in /opt/conda/lib/python3.11/site-packages (from torch>=1.10.0->accelerate) (2024.2.0)\n",
      "Requirement already satisfied: triton==2.1.0 in /opt/conda/lib/python3.11/site-packages (from torch>=1.10.0->accelerate) (2.1.0)\n",
      "Requirement already satisfied: requests in /opt/conda/lib/python3.11/site-packages (from huggingface-hub->accelerate) (2.31.0)\n",
      "Requirement already satisfied: tqdm>=4.42.1 in /opt/conda/lib/python3.11/site-packages (from huggingface-hub->accelerate) (4.66.1)\n",
      "Requirement already satisfied: MarkupSafe>=2.0 in /opt/conda/lib/python3.11/site-packages (from jinja2->torch>=1.10.0->accelerate) (2.1.3)\n",
      "Requirement already satisfied: charset-normalizer<4,>=2 in /opt/conda/lib/python3.11/site-packages (from requests->huggingface-hub->accelerate) (3.3.2)\n",
      "Requirement already satisfied: idna<4,>=2.5 in /opt/conda/lib/python3.11/site-packages (from requests->huggingface-hub->accelerate) (3.4)\n",
      "Requirement already satisfied: urllib3<3,>=1.21.1 in /opt/conda/lib/python3.11/site-packages (from requests->huggingface-hub->accelerate) (2.1.0)\n",
      "Requirement already satisfied: certifi>=2017.4.17 in /opt/conda/lib/python3.11/site-packages (from requests->huggingface-hub->accelerate) (2023.7.22)\n",
      "Requirement already satisfied: mpmath>=0.19 in /opt/conda/lib/python3.11/site-packages (from sympy->torch>=1.10.0->accelerate) (1.3.0)\n",
      "Requirement already satisfied: transformers in /opt/conda/lib/python3.11/site-packages (4.39.3)\n",
      "Requirement already satisfied: filelock in /opt/conda/lib/python3.11/site-packages (from transformers) (3.9.0)\n",
      "Requirement already satisfied: huggingface-hub<1.0,>=0.19.3 in /opt/conda/lib/python3.11/site-packages (from transformers) (0.22.2)\n",
      "Requirement already satisfied: numpy>=1.17 in /opt/conda/lib/python3.11/site-packages (from transformers) (1.26.0)\n",
      "Requirement already satisfied: packaging>=20.0 in /opt/conda/lib/python3.11/site-packages (from transformers) (23.2)\n",
      "Requirement already satisfied: pyyaml>=5.1 in /opt/conda/lib/python3.11/site-packages (from transformers) (6.0.1)\n",
      "Requirement already satisfied: regex!=2019.12.17 in /opt/conda/lib/python3.11/site-packages (from transformers) (2023.12.25)\n",
      "Requirement already satisfied: requests in /opt/conda/lib/python3.11/site-packages (from transformers) (2.31.0)\n",
      "Requirement already satisfied: tokenizers<0.19,>=0.14 in /opt/conda/lib/python3.11/site-packages (from transformers) (0.15.2)\n",
      "Requirement already satisfied: safetensors>=0.4.1 in /opt/conda/lib/python3.11/site-packages (from transformers) (0.4.2)\n",
      "Requirement already satisfied: tqdm>=4.27 in /opt/conda/lib/python3.11/site-packages (from transformers) (4.66.1)\n",
      "Requirement already satisfied: fsspec>=2023.5.0 in /opt/conda/lib/python3.11/site-packages (from huggingface-hub<1.0,>=0.19.3->transformers) (2024.2.0)\n",
      "Requirement already satisfied: typing-extensions>=3.7.4.3 in /opt/conda/lib/python3.11/site-packages (from huggingface-hub<1.0,>=0.19.3->transformers) (4.8.0)\n",
      "Requirement already satisfied: charset-normalizer<4,>=2 in /opt/conda/lib/python3.11/site-packages (from requests->transformers) (3.3.2)\n",
      "Requirement already satisfied: idna<4,>=2.5 in /opt/conda/lib/python3.11/site-packages (from requests->transformers) (3.4)\n",
      "Requirement already satisfied: urllib3<3,>=1.21.1 in /opt/conda/lib/python3.11/site-packages (from requests->transformers) (2.1.0)\n",
      "Requirement already satisfied: certifi>=2017.4.17 in /opt/conda/lib/python3.11/site-packages (from requests->transformers) (2023.7.22)\n"
     ]
    }
   ],
   "source": [
    "!pip install -U evaluate\n",
    "!pip install -U datasets\n",
    "!pip install -U accelerate\n",
    "!pip install -U transformers\n",
    "!pip install -U scikit-learn\n",
    "!pip install -U matplotlib\n",
    "!pip install -U seaborn"
   ]
  },
  {
   "cell_type": "code",
   "execution_count": 45,
   "metadata": {
    "id": "EZB7tPZ8FfKm"
   },
   "outputs": [],
   "source": [
    "# Imports\n",
    "import pandas as pd\n",
    "import numpy as np\n",
    "from sklearn.model_selection import train_test_split\n",
    "from transformers import AutoTokenizer, AutoModelForSequenceClassification, TrainingArguments, Trainer, pipeline, AdamW, get_linear_schedule_with_warmup\n",
    "from torch.utils.data import TensorDataset, DataLoader, RandomSampler, SequentialSampler\n",
    "import torch\n",
    "import evaluate\n",
    "from matplotlib import pyplot as plt\n",
    "import seaborn as sns\n",
    "import csv\n",
    "from collections import defaultdict\n",
    "from datasets import Dataset"
   ]
  },
  {
   "cell_type": "code",
   "execution_count": 46,
   "metadata": {
    "id": "pP7thbeYFfKo"
   },
   "outputs": [],
   "source": [
    "OUTPUT_DIR = 'output'\n",
    "VAL_RATIO = 0.3\n",
    "DATA_COLUMNS = ['title', 'word_count', 'character_count', 'bigrams', 'lemma', 'pos', 'tag', 'dep', 'label', 'context_score', 'trigger_words']\n",
    "LABEL_COLUMN = 'category'\n",
    "DATASET_DIR = 'data/full_maven_with_category.csv'"
   ]
  },
  {
   "cell_type": "markdown",
   "metadata": {
    "id": "gVaiCfP7FfKo"
   },
   "source": [
    "## Load Dataset"
   ]
  },
  {
   "cell_type": "code",
   "execution_count": 47,
   "metadata": {
    "id": "vPzoHb8bFfKp"
   },
   "outputs": [],
   "source": [
    "\n",
    "def load_dataset(file_location, target_column):\n",
    "    # Read the CSV file into a DataFrame\n",
    "    df = pd.read_csv(file_location)\n",
    "    labels = sorted(list(df[target_column].unique()))\n",
    "    print(len(labels))\n",
    "\n",
    "    #convert labels in target column to numbers\n",
    "    df[target_column] = df[target_column].apply(lambda x: labels.index(x))\n",
    "\n",
    "    return df, labels"
   ]
  },
  {
   "cell_type": "code",
   "execution_count": 48,
   "metadata": {
    "colab": {
     "base_uri": "https://localhost:8080/"
    },
    "id": "qNQj9b_ODfzA",
    "outputId": "2bd4a366-15eb-45e3-ac8c-d8f86a138d5a"
   },
   "outputs": [
    {
     "name": "stdout",
     "output_type": "stream",
     "text": [
      "15\n"
     ]
    }
   ],
   "source": [
    "data_df, label_list = load_dataset(DATASET_DIR, LABEL_COLUMN)\n",
    "train_data, test_data, train_labels, test_labels = train_test_split(data_df, data_df[LABEL_COLUMN], test_size=VAL_RATIO, random_state=42)"
   ]
  },
  {
   "cell_type": "code",
   "execution_count": 49,
   "metadata": {
    "colab": {
     "base_uri": "https://localhost:8080/",
     "height": 481
    },
    "id": "dfFjkfnrFfKp",
    "outputId": "fdd1997d-f6e5-413d-eb05-abe55d00ba6e"
   },
   "outputs": [
    {
     "data": {
      "text/html": [
       "<div>\n",
       "<style scoped>\n",
       "    .dataframe tbody tr th:only-of-type {\n",
       "        vertical-align: middle;\n",
       "    }\n",
       "\n",
       "    .dataframe tbody tr th {\n",
       "        vertical-align: top;\n",
       "    }\n",
       "\n",
       "    .dataframe thead th {\n",
       "        text-align: right;\n",
       "    }\n",
       "</style>\n",
       "<table border=\"1\" class=\"dataframe\">\n",
       "  <thead>\n",
       "    <tr style=\"text-align: right;\">\n",
       "      <th></th>\n",
       "      <th>title</th>\n",
       "      <th>word_count</th>\n",
       "      <th>character_count</th>\n",
       "      <th>bigrams</th>\n",
       "      <th>lemma</th>\n",
       "      <th>pos</th>\n",
       "      <th>tag</th>\n",
       "      <th>dep</th>\n",
       "      <th>label</th>\n",
       "      <th>context_score</th>\n",
       "      <th>trigger_words</th>\n",
       "      <th>category</th>\n",
       "    </tr>\n",
       "  </thead>\n",
       "  <tbody>\n",
       "    <tr>\n",
       "      <th>0</th>\n",
       "      <td>Battle of Salis</td>\n",
       "      <td>3</td>\n",
       "      <td>15</td>\n",
       "      <td>[('Battle', 'of'), ('of', 'Salis')]</td>\n",
       "      <td>['battle', 'of', 'Salis']</td>\n",
       "      <td>['NOUN', 'ADP', 'PROPN']</td>\n",
       "      <td>['NN', 'IN', 'NNP']</td>\n",
       "      <td>['ROOT', 'prep', 'pobj']</td>\n",
       "      <td>['', '', '']</td>\n",
       "      <td>{'battle': 1.0, 'salis': 0.008540730727941325}</td>\n",
       "      <td>['battle', 'salis']</td>\n",
       "      <td>9</td>\n",
       "    </tr>\n",
       "    <tr>\n",
       "      <th>1</th>\n",
       "      <td>Battle of Sudoměř</td>\n",
       "      <td>3</td>\n",
       "      <td>17</td>\n",
       "      <td>[('Battle', 'of'), ('of', 'Sudoměř')]</td>\n",
       "      <td>['battle', 'of', 'Sudoměř']</td>\n",
       "      <td>['NOUN', 'ADP', 'PROPN']</td>\n",
       "      <td>['NN', 'IN', 'NNP']</td>\n",
       "      <td>['ROOT', 'prep', 'pobj']</td>\n",
       "      <td>['WORK_OF_ART', 'WORK_OF_ART', 'WORK_OF_ART']</td>\n",
       "      <td>{'battle': 1.0, 'sudoměř': 0.008540730727941325}</td>\n",
       "      <td>['battle', 'sudoměř']</td>\n",
       "      <td>9</td>\n",
       "    </tr>\n",
       "    <tr>\n",
       "      <th>2</th>\n",
       "      <td>Texxas Jam</td>\n",
       "      <td>2</td>\n",
       "      <td>10</td>\n",
       "      <td>[('Texxas', 'Jam')]</td>\n",
       "      <td>['Texxas', 'Jam']</td>\n",
       "      <td>['PROPN', 'PROPN']</td>\n",
       "      <td>['NNP', 'NNP']</td>\n",
       "      <td>['compound', 'ROOT']</td>\n",
       "      <td>['PERSON', 'PERSON']</td>\n",
       "      <td>{'texxas': 0.2043111942133731, 'jam': 1.0}</td>\n",
       "      <td>['texxas', 'jam']</td>\n",
       "      <td>0</td>\n",
       "    </tr>\n",
       "    <tr>\n",
       "      <th>3</th>\n",
       "      <td>Territorial era of Minnesota</td>\n",
       "      <td>4</td>\n",
       "      <td>28</td>\n",
       "      <td>[('Territorial', 'era'), ('era', 'of'), ('of',...</td>\n",
       "      <td>['territorial', 'era', 'of', 'Minnesota']</td>\n",
       "      <td>['ADJ', 'NOUN', 'ADP', 'PROPN']</td>\n",
       "      <td>['JJ', 'NN', 'IN', 'NNP']</td>\n",
       "      <td>['amod', 'ROOT', 'prep', 'pobj']</td>\n",
       "      <td>['', '', '', 'GPE']</td>\n",
       "      <td>{'territorial': 0.4708947929883977, 'era': 0.4...</td>\n",
       "      <td>['territorial', 'era', 'minnesota']</td>\n",
       "      <td>12</td>\n",
       "    </tr>\n",
       "    <tr>\n",
       "      <th>4</th>\n",
       "      <td>Death of Joy Gardner</td>\n",
       "      <td>4</td>\n",
       "      <td>20</td>\n",
       "      <td>[('Death', 'of'), ('of', 'Joy'), ('Joy', 'Gard...</td>\n",
       "      <td>['death', 'of', 'Joy', 'Gardner']</td>\n",
       "      <td>['NOUN', 'ADP', 'PROPN', 'PROPN']</td>\n",
       "      <td>['NN', 'IN', 'NNP', 'NNP']</td>\n",
       "      <td>['ROOT', 'prep', 'compound', 'pobj']</td>\n",
       "      <td>['', '', 'PERSON', 'PERSON']</td>\n",
       "      <td>{'death': 1.0, 'joy': 0.11603765993719264, 'ga...</td>\n",
       "      <td>['death', 'joy', 'gardner']</td>\n",
       "      <td>1</td>\n",
       "    </tr>\n",
       "  </tbody>\n",
       "</table>\n",
       "</div>"
      ],
      "text/plain": [
       "                          title  word_count  character_count  \\\n",
       "0               Battle of Salis           3               15   \n",
       "1             Battle of Sudoměř           3               17   \n",
       "2                    Texxas Jam           2               10   \n",
       "3  Territorial era of Minnesota           4               28   \n",
       "4          Death of Joy Gardner           4               20   \n",
       "\n",
       "                                             bigrams  \\\n",
       "0                [('Battle', 'of'), ('of', 'Salis')]   \n",
       "1              [('Battle', 'of'), ('of', 'Sudoměř')]   \n",
       "2                                [('Texxas', 'Jam')]   \n",
       "3  [('Territorial', 'era'), ('era', 'of'), ('of',...   \n",
       "4  [('Death', 'of'), ('of', 'Joy'), ('Joy', 'Gard...   \n",
       "\n",
       "                                       lemma  \\\n",
       "0                  ['battle', 'of', 'Salis']   \n",
       "1                ['battle', 'of', 'Sudoměř']   \n",
       "2                          ['Texxas', 'Jam']   \n",
       "3  ['territorial', 'era', 'of', 'Minnesota']   \n",
       "4          ['death', 'of', 'Joy', 'Gardner']   \n",
       "\n",
       "                                 pos                         tag  \\\n",
       "0           ['NOUN', 'ADP', 'PROPN']         ['NN', 'IN', 'NNP']   \n",
       "1           ['NOUN', 'ADP', 'PROPN']         ['NN', 'IN', 'NNP']   \n",
       "2                 ['PROPN', 'PROPN']              ['NNP', 'NNP']   \n",
       "3    ['ADJ', 'NOUN', 'ADP', 'PROPN']   ['JJ', 'NN', 'IN', 'NNP']   \n",
       "4  ['NOUN', 'ADP', 'PROPN', 'PROPN']  ['NN', 'IN', 'NNP', 'NNP']   \n",
       "\n",
       "                                    dep  \\\n",
       "0              ['ROOT', 'prep', 'pobj']   \n",
       "1              ['ROOT', 'prep', 'pobj']   \n",
       "2                  ['compound', 'ROOT']   \n",
       "3      ['amod', 'ROOT', 'prep', 'pobj']   \n",
       "4  ['ROOT', 'prep', 'compound', 'pobj']   \n",
       "\n",
       "                                           label  \\\n",
       "0                                   ['', '', '']   \n",
       "1  ['WORK_OF_ART', 'WORK_OF_ART', 'WORK_OF_ART']   \n",
       "2                           ['PERSON', 'PERSON']   \n",
       "3                            ['', '', '', 'GPE']   \n",
       "4                   ['', '', 'PERSON', 'PERSON']   \n",
       "\n",
       "                                       context_score  \\\n",
       "0     {'battle': 1.0, 'salis': 0.008540730727941325}   \n",
       "1   {'battle': 1.0, 'sudoměř': 0.008540730727941325}   \n",
       "2         {'texxas': 0.2043111942133731, 'jam': 1.0}   \n",
       "3  {'territorial': 0.4708947929883977, 'era': 0.4...   \n",
       "4  {'death': 1.0, 'joy': 0.11603765993719264, 'ga...   \n",
       "\n",
       "                         trigger_words  category  \n",
       "0                  ['battle', 'salis']         9  \n",
       "1                ['battle', 'sudoměř']         9  \n",
       "2                    ['texxas', 'jam']         0  \n",
       "3  ['territorial', 'era', 'minnesota']        12  \n",
       "4          ['death', 'joy', 'gardner']         1  "
      ]
     },
     "execution_count": 49,
     "metadata": {},
     "output_type": "execute_result"
    }
   ],
   "source": [
    "data_df.head()"
   ]
  },
  {
   "cell_type": "code",
   "execution_count": 50,
   "metadata": {
    "colab": {
     "base_uri": "https://localhost:8080/",
     "height": 452
    },
    "id": "xpq4Q3nPVTSy",
    "outputId": "1f87a686-6930-4d5f-c63c-fff089bf670c"
   },
   "outputs": [
    {
     "data": {
      "image/png": "[encoded data removed]",
      "text/plain": [
       "<Figure size 640x480 with 1 Axes>"
      ]
     },
     "metadata": {},
     "output_type": "display_data"
    }
   ],
   "source": [
    "def plot_category_distribution(data_df):\n",
    "    category_counts = data_df['category'].value_counts()\n",
    "    category_counts.plot(kind='bar')\n",
    "    plt.show()\n",
    "\n",
    "plot_category_distribution(data_df)"
   ]
  },
  {
   "cell_type": "code",
   "execution_count": 51,
   "metadata": {
    "colab": {
     "base_uri": "https://localhost:8080/"
    },
    "id": "EME-KVZIFfKq",
    "outputId": "89a56c7c-9b9f-4639-ded1-f9641dd7d759"
   },
   "outputs": [
    {
     "name": "stdout",
     "output_type": "stream",
     "text": [
      "Length of labels: 15\n",
      "Shape of the training data:  (3131, 12)\n",
      "Shape of the test data:  (1343, 12)\n"
     ]
    }
   ],
   "source": [
    "print('Length of labels:', len(label_list))\n",
    "print('Shape of the training data: ', train_data.shape)\n",
    "print('Shape of the test data: ', test_data.shape)"
   ]
  },
  {
   "cell_type": "code",
   "execution_count": 52,
   "metadata": {
    "id": "cEf3C4ZKEQzn"
   },
   "outputs": [],
   "source": [
    "model_checkpoint = \"google/bert_uncased_L-2_H-128_A-2\"\n",
    "max_length = 128\n",
    "\n",
    "# Load BERT tokenizer and model\n",
    "tokenizer = AutoTokenizer.from_pretrained(model_checkpoint, use_fast=True)"
   ]
  },
  {
   "cell_type": "code",
   "execution_count": 53,
   "metadata": {
    "id": "98NRyiz0C395"
   },
   "outputs": [],
   "source": [
    "def preprocess_function(input_data):\n",
    "    # Extract features from input_data\n",
    "    titles = input_data['title'].tolist()\n",
    "    word_count = input_data['word_count'].tolist()\n",
    "    character_count = input_data['character_count'].tolist()\n",
    "    bigrams = input_data['bigrams'].tolist()\n",
    "    lemma = input_data['lemma'].tolist()\n",
    "    pos = input_data['pos'].tolist()\n",
    "    tag = input_data['tag'].tolist()\n",
    "    dep = input_data['dep'].tolist()\n",
    "    context_score = input_data['context_score'].tolist()\n",
    "    trigger_words = input_data['trigger_words'].tolist()\n",
    "\n",
    "    # Tokenize each title separately\n",
    "    tokenized_inputs = tokenizer(titles, padding=True, truncation=True, max_length=max_length)\n",
    "\n",
    "    # Create a Dataset object\n",
    "    dataset = Dataset.from_dict({\n",
    "        'text': titles,\n",
    "        'label': input_data[LABEL_COLUMN].tolist(),  # Assuming the label column name is LABEL_COLUMN\n",
    "        'word_count': word_count,\n",
    "        'character_count': character_count,\n",
    "        'bigrams': bigrams,\n",
    "        'lemma': lemma,\n",
    "        'pos': pos,\n",
    "        'tag': tag,\n",
    "        'dep': dep,\n",
    "        'context_score': context_score,\n",
    "        'trigger_words': trigger_words,\n",
    "        'input_ids': tokenized_inputs['input_ids'],\n",
    "        'token_type_ids': tokenized_inputs['token_type_ids'],\n",
    "        'attention_mask': tokenized_inputs['attention_mask']\n",
    "    })\n",
    "\n",
    "    return dataset"
   ]
  },
  {
   "cell_type": "code",
   "execution_count": 54,
   "metadata": {
    "colab": {
     "base_uri": "https://localhost:8080/"
    },
    "id": "-9IhHjyfFfKq",
    "outputId": "27e2b93e-a3cc-46f7-dd04-c2b694b9dfee"
   },
   "outputs": [
    {
     "data": {
      "text/plain": [
       "Dataset({\n",
       "    features: ['text', 'label', 'word_count', 'character_count', 'bigrams', 'lemma', 'pos', 'tag', 'dep', 'context_score', 'trigger_words', 'input_ids', 'token_type_ids', 'attention_mask'],\n",
       "    num_rows: 3131\n",
       "})"
      ]
     },
     "execution_count": 54,
     "metadata": {},
     "output_type": "execute_result"
    }
   ],
   "source": [
    "encoded_train = preprocess_function(train_data)\n",
    "encoded_test = preprocess_function(test_data)\n",
    "encoded_train"
   ]
  },
  {
   "cell_type": "code",
   "execution_count": 55,
   "metadata": {
    "colab": {
     "base_uri": "https://localhost:8080/"
    },
    "id": "tJtCnHL1C7i1",
    "outputId": "5bbd148f-d908-42f3-b02c-0080258b36b5"
   },
   "outputs": [
    {
     "name": "stderr",
     "output_type": "stream",
     "text": [
      "Some weights of BertForSequenceClassification were not initialized from the model checkpoint at google/bert_uncased_L-2_H-128_A-2 and are newly initialized: ['classifier.bias', 'classifier.weight']\n",
      "You should probably TRAIN this model on a down-stream task to be able to use it for predictions and inference.\n"
     ]
    },
    {
     "data": {
      "text/plain": [
       "Embedding(30522, 128, padding_idx=0)"
      ]
     },
     "execution_count": 55,
     "metadata": {},
     "output_type": "execute_result"
    }
   ],
   "source": [
    "model = AutoModelForSequenceClassification.from_pretrained(model_checkpoint, num_labels=len(label_list), hidden_dropout_prob=0.1, attention_probs_dropout_prob=0.1)\n",
    "model.resize_token_embeddings(len(tokenizer)) # need to resize due to new tokens added"
   ]
  },
  {
   "cell_type": "code",
   "execution_count": 56,
   "metadata": {
    "id": "is2l4pxeFfKq"
   },
   "outputs": [],
   "source": [
    "metric_name = 'f1'\n",
    "model_name = model_checkpoint.split(\"/\")[-1]\n",
    "\n",
    "args = TrainingArguments(\n",
    "    f\"./snapshots/{model_name}-finetuned\",\n",
    "    evaluation_strategy = \"epoch\",\n",
    "    save_strategy = \"epoch\",\n",
    "    save_total_limit = 3,\n",
    "    learning_rate=5e-5,\n",
    "    per_device_train_batch_size=16,\n",
    "    per_device_eval_batch_size=16,\n",
    "    num_train_epochs=20,\n",
    "    weight_decay=0.01,\n",
    "    load_best_model_at_end=True,\n",
    "    metric_for_best_model=metric_name,\n",
    "    push_to_hub=False,\n",
    ")"
   ]
  },
  {
   "cell_type": "code",
   "execution_count": 60,
   "metadata": {},
   "outputs": [],
   "source": [
    "# Create the AdamW optimizer\n",
    "optimizer = AdamW(model.parameters(), lr=3e-5)\n",
    "\n",
    "# Define the number of training steps and warmup steps\n",
    "num_train_steps = len(encoded_train) * 20\n",
    "num_warmup_steps = int(0.1 * num_train_steps)  # 10% of total steps\n",
    "\n",
    "# Create the linear scheduler\n",
    "scheduler = get_linear_schedule_with_warmup(optimizer, num_warmup_steps=num_warmup_steps, num_training_steps=num_train_steps)"
   ]
  },
  {
   "cell_type": "code",
   "execution_count": 61,
   "metadata": {
    "id": "UYi8XhnBFfKq"
   },
   "outputs": [],
   "source": [
    "metric = evaluate.load(metric_name)\n",
    "\n",
    "def compute_metrics(eval_pred):\n",
    "    predictions, labels = eval_pred\n",
    "    predictions = np.argmax(predictions, axis=-1)\n",
    "    return metric.compute(predictions=predictions, references=labels, average=\"micro\")"
   ]
  },
  {
   "cell_type": "code",
   "execution_count": 62,
   "metadata": {
    "colab": {
     "base_uri": "https://localhost:8080/"
    },
    "id": "lCBvNfnUFfKq",
    "outputId": "451b517d-0fe7-4437-df11-70a26fae462c"
   },
   "outputs": [
    {
     "name": "stderr",
     "output_type": "stream",
     "text": [
      "/opt/conda/lib/python3.11/site-packages/accelerate/accelerator.py:436: FutureWarning: Passing the following arguments to `Accelerator` is deprecated and will be removed in version 1.0 of Accelerate: dict_keys(['dispatch_batches', 'split_batches', 'even_batches', 'use_seedable_sampler']). Please pass an `accelerate.DataLoaderConfiguration` instead: \n",
      "dataloader_config = DataLoaderConfiguration(dispatch_batches=None, split_batches=False, even_batches=True, use_seedable_sampler=True)\n",
      "  warnings.warn(\n"
     ]
    }
   ],
   "source": [
    "trainer = Trainer(\n",
    "    model,\n",
    "    args,\n",
    "    train_dataset=encoded_train,\n",
    "    eval_dataset=encoded_test,\n",
    "    tokenizer=tokenizer,\n",
    "    compute_metrics=compute_metrics,\n",
    "    optimizers=(optimizer,scheduler)\n",
    ")"
   ]
  },
  {
   "cell_type": "code",
   "execution_count": 63,
   "metadata": {
    "colab": {
     "base_uri": "https://localhost:8080/",
     "height": 378
    },
    "id": "NDcI1Bm1FfKr",
    "outputId": "ccac14e1-624b-4ccc-82c3-00f39459302c"
   },
   "outputs": [
    {
     "data": {
      "text/html": [
       "\n",
       "    <div>\n",
       "      \n",
       "      <progress value='3920' max='3920' style='width:300px; height:20px; vertical-align: middle;'></progress>\n",
       "      [3920/3920 02:39, Epoch 20/20]\n",
       "    </div>\n",
       "    <table border=\"1\" class=\"dataframe\">\n",
       "  <thead>\n",
       " <tr style=\"text-align: left;\">\n",
       "      <th>Epoch</th>\n",
       "      <th>Training Loss</th>\n",
       "      <th>Validation Loss</th>\n",
       "      <th>F1</th>\n",
       "    </tr>\n",
       "  </thead>\n",
       "  <tbody>\n",
       "    <tr>\n",
       "      <td>1</td>\n",
       "      <td>No log</td>\n",
       "      <td>2.703429</td>\n",
       "      <td>0.145197</td>\n",
       "    </tr>\n",
       "    <tr>\n",
       "      <td>2</td>\n",
       "      <td>No log</td>\n",
       "      <td>2.663892</td>\n",
       "      <td>0.191363</td>\n",
       "    </tr>\n",
       "    <tr>\n",
       "      <td>3</td>\n",
       "      <td>2.701100</td>\n",
       "      <td>2.601519</td>\n",
       "      <td>0.188384</td>\n",
       "    </tr>\n",
       "    <tr>\n",
       "      <td>4</td>\n",
       "      <td>2.701100</td>\n",
       "      <td>2.522886</td>\n",
       "      <td>0.195830</td>\n",
       "    </tr>\n",
       "    <tr>\n",
       "      <td>5</td>\n",
       "      <td>2.701100</td>\n",
       "      <td>2.447865</td>\n",
       "      <td>0.214445</td>\n",
       "    </tr>\n",
       "    <tr>\n",
       "      <td>6</td>\n",
       "      <td>2.548700</td>\n",
       "      <td>2.373891</td>\n",
       "      <td>0.265078</td>\n",
       "    </tr>\n",
       "    <tr>\n",
       "      <td>7</td>\n",
       "      <td>2.548700</td>\n",
       "      <td>2.301674</td>\n",
       "      <td>0.373790</td>\n",
       "    </tr>\n",
       "    <tr>\n",
       "      <td>8</td>\n",
       "      <td>2.358900</td>\n",
       "      <td>2.229531</td>\n",
       "      <td>0.439315</td>\n",
       "    </tr>\n",
       "    <tr>\n",
       "      <td>9</td>\n",
       "      <td>2.358900</td>\n",
       "      <td>2.149716</td>\n",
       "      <td>0.477290</td>\n",
       "    </tr>\n",
       "    <tr>\n",
       "      <td>10</td>\n",
       "      <td>2.358900</td>\n",
       "      <td>2.054996</td>\n",
       "      <td>0.540581</td>\n",
       "    </tr>\n",
       "    <tr>\n",
       "      <td>11</td>\n",
       "      <td>2.167600</td>\n",
       "      <td>1.952241</td>\n",
       "      <td>0.565153</td>\n",
       "    </tr>\n",
       "    <tr>\n",
       "      <td>12</td>\n",
       "      <td>2.167600</td>\n",
       "      <td>1.843892</td>\n",
       "      <td>0.577066</td>\n",
       "    </tr>\n",
       "    <tr>\n",
       "      <td>13</td>\n",
       "      <td>1.922600</td>\n",
       "      <td>1.734207</td>\n",
       "      <td>0.617275</td>\n",
       "    </tr>\n",
       "    <tr>\n",
       "      <td>14</td>\n",
       "      <td>1.922600</td>\n",
       "      <td>1.622037</td>\n",
       "      <td>0.674609</td>\n",
       "    </tr>\n",
       "    <tr>\n",
       "      <td>15</td>\n",
       "      <td>1.922600</td>\n",
       "      <td>1.504433</td>\n",
       "      <td>0.708861</td>\n",
       "    </tr>\n",
       "    <tr>\n",
       "      <td>16</td>\n",
       "      <td>1.643600</td>\n",
       "      <td>1.388875</td>\n",
       "      <td>0.747580</td>\n",
       "    </tr>\n",
       "    <tr>\n",
       "      <td>17</td>\n",
       "      <td>1.643600</td>\n",
       "      <td>1.277022</td>\n",
       "      <td>0.772152</td>\n",
       "    </tr>\n",
       "    <tr>\n",
       "      <td>18</td>\n",
       "      <td>1.350000</td>\n",
       "      <td>1.179243</td>\n",
       "      <td>0.785555</td>\n",
       "    </tr>\n",
       "    <tr>\n",
       "      <td>19</td>\n",
       "      <td>1.350000</td>\n",
       "      <td>1.087525</td>\n",
       "      <td>0.804914</td>\n",
       "    </tr>\n",
       "    <tr>\n",
       "      <td>20</td>\n",
       "      <td>1.350000</td>\n",
       "      <td>1.005424</td>\n",
       "      <td>0.818317</td>\n",
       "    </tr>\n",
       "  </tbody>\n",
       "</table><p>"
      ],
      "text/plain": [
       "<IPython.core.display.HTML object>"
      ]
     },
     "metadata": {},
     "output_type": "display_data"
    },
    {
     "data": {
      "text/plain": [
       "TrainOutput(global_step=3920, training_loss=1.9918620284722777, metrics={'train_runtime': 159.69, 'train_samples_per_second': 392.135, 'train_steps_per_second': 24.548, 'total_flos': 3120332056800.0, 'train_loss': 1.9918620284722777, 'epoch': 20.0})"
      ]
     },
     "execution_count": 63,
     "metadata": {},
     "output_type": "execute_result"
    }
   ],
   "source": [
    "trainer.train()"
   ]
  },
  {
   "cell_type": "code",
   "execution_count": 64,
   "metadata": {
    "colab": {
     "base_uri": "https://localhost:8080/",
     "height": 135
    },
    "id": "E1zdlTj87Nne",
    "outputId": "2cae2607-2bbe-498d-c02c-c85af2b261f5"
   },
   "outputs": [
    {
     "data": {
      "text/html": [],
      "text/plain": [
       "<IPython.core.display.HTML object>"
      ]
     },
     "metadata": {},
     "output_type": "display_data"
    },
    {
     "data": {
      "text/plain": [
       "{'eval_loss': 1.005423665046692,\n",
       " 'eval_f1': 0.8183172002978406,\n",
       " 'eval_runtime': 0.7817,\n",
       " 'eval_samples_per_second': 1718.048,\n",
       " 'eval_steps_per_second': 107.458,\n",
       " 'epoch': 20.0}"
      ]
     },
     "execution_count": 64,
     "metadata": {},
     "output_type": "execute_result"
    }
   ],
   "source": [
    "trainer.evaluate()"
   ]
  },
  {
   "cell_type": "code",
   "execution_count": 65,
   "metadata": {},
   "outputs": [
    {
     "data": {
      "text/plain": [
       "{'eval_loss': 1.005423665046692,\n",
       " 'eval_f1': 0.8183172002978406,\n",
       " 'eval_runtime': 0.7864,\n",
       " 'eval_samples_per_second': 1707.824,\n",
       " 'eval_steps_per_second': 106.818,\n",
       " 'epoch': 20.0}"
      ]
     },
     "execution_count": 65,
     "metadata": {},
     "output_type": "execute_result"
    }
   ],
   "source": [
    "bert_eval = trainer.evaluate(encoded_test)\n",
    "bert_eval"
   ]
  },
  {
   "cell_type": "code",
   "execution_count": 66,
   "metadata": {
    "colab": {
     "base_uri": "https://localhost:8080/",
     "height": 16
    },
    "id": "8nAYJvXe8B5c",
    "outputId": "d0983367-d8d5-4820-834c-b5e8345b6284"
   },
   "outputs": [
    {
     "data": {
      "text/plain": [
       "PredictionOutput(predictions=array([[-5.5090457e-01, -2.2861332e-01, -8.7025207e-01, ...,\n",
       "         1.2729326e-01, -9.7191238e-01,  1.4662163e+00],\n",
       "       [-8.3824420e-01,  2.8708410e+00, -1.4096133e+00, ...,\n",
       "        -9.0649098e-01, -1.3406719e+00,  5.3271407e-01],\n",
       "       [-7.3196912e-01,  4.3445855e-01, -1.1260893e+00, ...,\n",
       "        -6.6369230e-01, -1.2824756e+00,  2.8932045e+00],\n",
       "       ...,\n",
       "       [-6.1480182e-01, -1.3823506e-01, -8.9781821e-01, ...,\n",
       "        -2.5265989e-01, -1.1022328e+00,  1.9823925e+00],\n",
       "       [-4.8334575e-01,  1.7085266e+00, -1.1407598e+00, ...,\n",
       "        -1.1875682e+00, -1.3447057e+00,  1.0818229e-01],\n",
       "       [-6.6432357e-01,  1.2236436e-01, -9.6087462e-01, ...,\n",
       "        -7.5537292e-04, -1.1708491e+00,  1.5549341e+00]], dtype=float32), label_ids=array([ 5,  1, 14, ...,  5,  9,  5]), metrics={'test_loss': 1.005423665046692, 'test_f1': 0.8183172002978406, 'test_runtime': 0.8354, 'test_samples_per_second': 1607.631, 'test_steps_per_second': 100.552})"
      ]
     },
     "execution_count": 66,
     "metadata": {},
     "output_type": "execute_result"
    }
   ],
   "source": [
    "predictions = trainer.predict(encoded_test)\n",
    "predictions"
   ]
  },
  {
   "cell_type": "code",
   "execution_count": 69,
   "metadata": {
    "id": "ETlHBUmC81vG"
   },
   "outputs": [
    {
     "name": "stderr",
     "output_type": "stream",
     "text": [
      "/opt/conda/lib/python3.11/site-packages/sklearn/metrics/_classification.py:1509: UndefinedMetricWarning: Precision is ill-defined and being set to 0.0 in labels with no predicted samples. Use `zero_division` parameter to control this behavior.\n",
      "  _warn_prf(average, modifier, f\"{metric.capitalize()} is\", len(result))\n"
     ]
    },
    {
     "name": "stdout",
     "output_type": "stream",
     "text": [
      "Accuracy: 0.8183172002978406\n",
      "Precision: 0.7832972263817117\n",
      "Recall: 0.8183172002978406\n",
      "F1: 0.7978525248837305\n"
     ]
    },
    {
     "data": {
      "image/png": "[encoded data removed]",
      "text/plain": [
       "<Figure size 1000x800 with 1 Axes>"
      ]
     },
     "metadata": {},
     "output_type": "display_data"
    }
   ],
   "source": [
    "from sklearn.metrics import accuracy_score, precision_score, recall_score, f1_score, confusion_matrix\n",
    "ground_truth_labels = encoded_test[\"label\"]\n",
    "predicted_labels = predictions.predictions.argmax(axis=1)\n",
    "accuracy = accuracy_score(y_true=ground_truth_labels, y_pred=predicted_labels)\n",
    "precision = precision_score(y_true=ground_truth_labels, y_pred=predicted_labels, average='weighted')\n",
    "recall = recall_score(y_true=ground_truth_labels, y_pred=predicted_labels, average='weighted')\n",
    "f1 = f1_score(y_true=ground_truth_labels, y_pred=predicted_labels, average='weighted')\n",
    "confusion_matrix = confusion_matrix(ground_truth_labels, predicted_labels)\n",
    "print('Accuracy:', accuracy)\n",
    "print('Precision:', precision)\n",
    "print('Recall:', recall)\n",
    "print('F1:', f1)\n",
    "\n",
    "# Plot the confusion matrix\n",
    "plt.figure(figsize=(10, 8))\n",
    "sns.heatmap(confusion_matrix, annot=True, cmap='Blues', fmt='g', cbar=False)\n",
    "plt.xlabel('Predicted Label')\n",
    "plt.ylabel('True Label')\n",
    "plt.title('Confusion Matrix')\n",
    "plt.show()"
   ]
  }
 ],
 "metadata": {
  "colab": {
   "provenance": []
  },
  "kernelspec": {
   "display_name": "Python 3 (ipykernel)",
   "language": "python",
   "name": "python3"
  },
  "language_info": {
   "codemirror_mode": {
    "name": "ipython",
    "version": 3
   },
   "file_extension": ".py",
   "mimetype": "text/x-python",
   "name": "python",
   "nbconvert_exporter": "python",
   "pygments_lexer": "ipython3",
   "version": "3.10.6"
  }
 },
 "nbformat": 4,
 "nbformat_minor": 4
}
